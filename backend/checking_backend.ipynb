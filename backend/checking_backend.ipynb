{
 "cells": [
  {
   "cell_type": "code",
   "execution_count": 2,
   "id": "d60e2df9-a27f-4cf9-8e01-ead05d1b3cb2",
   "metadata": {},
   "outputs": [],
   "source": [
    "from fastapi import FastAPI, File, UploadFile\n",
    "from fastapi.middleware.cors import CORSMiddleware\n",
    "\n",
    "import uvicorn\n",
    "\n",
    "import numpy as np\n",
    "\n",
    "from io import BytesIO\n",
    "from PIL import Image\n",
    "\n",
    "\n",
    "import tensorflow as tf"
   ]
  },
  {
   "cell_type": "code",
   "execution_count": 3,
   "id": "5030240a-db44-4751-890b-0a2538851932",
   "metadata": {},
   "outputs": [],
   "source": [
    "app = FastAPI()\n",
    "\n",
    "origins = [\n",
    "    \"http://localhost\",\n",
    "    \"http://localhost:3000\",\n",
    "]\n",
    "app.add_middleware(\n",
    "    CORSMiddleware,\n",
    "    allow_origins=origins,\n",
    "    allow_credentials=True,\n",
    "    allow_methods=[\"*\"],\n",
    "    allow_headers=[\"*\"],\n",
    ")\n"
   ]
  },
  {
   "cell_type": "code",
   "execution_count": null,
   "id": "8bba20da-fc13-47c4-a192-cf85906ff3d2",
   "metadata": {},
   "outputs": [],
   "source": [
    "\n",
    "MODEL = tf.keras.models.load_model(\"../model/models/1\")\n"
   ]
  },
  {
   "cell_type": "code",
   "execution_count": null,
   "id": "4ddf6632-968f-45b2-b021-b79557f76863",
   "metadata": {},
   "outputs": [
    {
     "name": "stdout",
     "output_type": "stream",
     "text": [
      "imported fastapi\n",
      "imported uvicorn\n",
      "imported numpy\n",
      "imported bytes and pil\n",
      "imported tensorflow\n"
     ]
    }
   ],
   "source": [
    "\n",
    "\n",
    "\n",
    "\n",
    "\n",
    "CLASS_NAMES = ['Apple Braeburn', 'Apple Crimson Snow', 'Apple Golden 1',\n",
    "               'Apple Golden 2', 'Apple Golden 3', 'Apple Granny Smith', 'Apple Pink Lady',\n",
    "               'Apple Red 1', 'Apple Red 2', 'Apple Red 3', 'Apple Red Delicious',\n",
    "               'Apple Red Yellow 1', 'Apple Red Yellow 2', 'Apricot', 'Avocado',\n",
    "               'Avocado ripe', 'Banana', 'Banana Lady Finger', 'Banana Red', 'Beetroot',\n",
    "               'Blueberry', 'Cactus fruit', 'Cantaloupe 1', 'Cantaloupe 2', 'Carambula',\n",
    "               'Cauliflower', 'Cherry 1', 'Cherry 2', 'Cherry Rainier', 'Cherry Wax Black',\n",
    "               'Cherry Wax Red', 'Cherry Wax Yellow', 'Chestnut', 'Clementine', 'Cocos',\n",
    "               'Corn', 'Corn Husk', 'Cucumber Ripe', 'Cucumber Ripe 2', 'Dates', 'Eggplant',\n",
    "               'Fig', 'Ginger Root', 'Granadilla', 'Grape Blue', 'Grape Pink', 'Grape White',\n",
    "               'Grape White 2', 'Grape White 3', 'Grape White 4', 'Grapefruit Pink',\n",
    "               'Grapefruit White', 'Guava', 'Hazelnut', 'Huckleberry', 'Kaki', 'Kiwi',\n",
    "               'Kohlrabi', 'Kumquats', 'Lemon', 'Lemon Meyer', 'Limes', 'Lychee',\n",
    "               'Mandarine', 'Mango', 'Mango Red', 'Mangostan', 'Maracuja',\n",
    "               'Melon Piel de Sapo', 'Mulberry', 'Nectarine', 'Nectarine Flat',\n",
    "               'Nut Forest', 'Nut Pecan', 'Onion Red', 'Onion Red Peeled', 'Onion White',\n",
    "               'Orange', 'Papaya', 'Passion Fruit', 'Peach', 'Peach 2', 'Peach Flat',\n",
    "               'Pear', 'Pear 2', 'Pear Abate', 'Pear Forelle', 'Pear Kaiser',\n",
    "               'Pear Monster', 'Pear Red', 'Pear Stone', 'Pear Williams', 'Pepino',\n",
    "               'Pepper Green', 'Pepper Orange', 'Pepper Red', 'Pepper Yellow', 'Physalis',\n",
    "               'Physalis with Husk', 'Pineapple', 'Pineapple Mini', 'Pitahaya Red', 'Plum',\n",
    "               'Plum 2', 'Plum 3', 'Pomegranate', 'Pomelo Sweetie', 'Potato Red',\n",
    "               'Potato Red Washed', 'Potato Sweet', 'Potato White', 'Quince', 'Rambutan',\n",
    "               'Raspberry', 'Redcurrant', 'Salak', 'Strawberry', 'Strawberry Wedge',\n",
    "               'Tamarillo', 'Tangelo', 'Tomato 1', 'Tomato 2', 'Tomato 3', 'Tomato 4',\n",
    "               'Tomato Cherry Red', 'Tomato Heart', 'Tomato Maroon', 'Tomato Yellow',\n",
    "               'Tomato not Ripened', 'Walnut', 'Watermelon']\n",
    "\n",
    "\n",
    "@app.get(\"/ping\")\n",
    "async def ping():\n",
    "    return \"Hello, I am alive\"\n",
    "\n",
    "\n",
    "def read_file_as_image(data) -> np.ndarray:\n",
    "    image = np.array(Image.open(BytesIO(data)))\n",
    "    return image\n",
    "\n",
    "\n",
    "@app.post(\"/predict\")\n",
    "async def predict(\n",
    "        file: UploadFile = File(...)\n",
    "):\n",
    "    image = read_file_as_image(await file.read())\n",
    "    img_batch = np.expand_dims(image, 0)\n",
    "\n",
    "    predictions = MODEL.predict(img_batch)\n",
    "\n",
    "    predicted_class = CLASS_NAMES[np.argmax(predictions[0])]\n",
    "    confidence = np.max(predictions[0])\n",
    "    return {\n",
    "        'class': predicted_class,\n",
    "        'confidence': float(confidence)\n",
    "    }\n",
    "\n",
    "\n",
    "if __name__ == \"__main__\":\n",
    "    uvicorn.run(app, host='localhost', port=8000)"
   ]
  },
  {
   "cell_type": "code",
   "execution_count": 2,
   "id": "77caffc5-3078-49dc-a5dc-a78ea8a157a5",
   "metadata": {},
   "outputs": [],
   "source": [
    "import numpy as np"
   ]
  },
  {
   "cell_type": "code",
   "execution_count": null,
   "id": "081b2390-9753-447e-9fc8-e4e700999cac",
   "metadata": {},
   "outputs": [],
   "source": []
  }
 ],
 "metadata": {
  "kernelspec": {
   "display_name": "Python 3 (ipykernel)",
   "language": "python",
   "name": "python3"
  },
  "language_info": {
   "codemirror_mode": {
    "name": "ipython",
    "version": 3
   },
   "file_extension": ".py",
   "mimetype": "text/x-python",
   "name": "python",
   "nbconvert_exporter": "python",
   "pygments_lexer": "ipython3",
   "version": "3.9.13"
  }
 },
 "nbformat": 4,
 "nbformat_minor": 5
}
